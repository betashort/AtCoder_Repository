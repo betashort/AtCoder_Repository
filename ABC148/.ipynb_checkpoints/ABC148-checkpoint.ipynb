{
 "cells": [
  {
   "cell_type": "markdown",
   "metadata": {},
   "source": [
    "# https://atcoder.jp/contests/abc148"
   ]
  },
  {
   "cell_type": "markdown",
   "metadata": {},
   "source": [
    "# A - Round One\n",
    "問題文\n",
    "高橋君はペーパークイズを解いています。高橋君はすらすらと解いていき、残すは最終問題のみとなりました。\n",
    "\n",
    "この問題は、答えが \n",
    "1\n",
    ",\n",
    "2\n",
    ",\n",
    "3\n",
    " のいずれかである \n",
    "3\n",
    " 択問題です。\n",
    "\n",
    "高橋君は超能力によって、\n",
    "A\n",
    " と \n",
    "B\n",
    " が誤答であることがわかりました。\n",
    "\n",
    "この問題の答えを出力してください。"
   ]
  },
  {
   "cell_type": "code",
   "execution_count": 1,
   "metadata": {},
   "outputs": [
    {
     "name": "stdout",
     "output_type": "stream",
     "text": [
      "1\n",
      "2\n",
      "3\n"
     ]
    }
   ],
   "source": [
    "A = int(input())\n",
    "B = int(input())\n",
    "print(6-(A+B))"
   ]
  },
  {
   "cell_type": "markdown",
   "metadata": {},
   "source": [
    "# B - Strings with the Same Length\n",
    "問題文\n",
    "英小文字のみからなる長さ \n",
    "N\n",
    " の文字列 \n",
    "S\n",
    ", \n",
    "T\n",
    " が与えられます。\n",
    "\n",
    "S\n",
    " の \n",
    "1\n",
    " 文字目、\n",
    "T\n",
    " の \n",
    "1\n",
    " 文字目、\n",
    "S\n",
    " の \n",
    "2\n",
    " 文字目、\n",
    "T\n",
    " の\n",
    "2\n",
    " 文字目、\n",
    "S\n",
    " の \n",
    "3\n",
    " 文字目、...、\n",
    "S\n",
    " の\n",
    "N\n",
    " 文字目、\n",
    "T\n",
    " の\n",
    "N\n",
    " 文字目というように、 \n",
    "S\n",
    " の各文字と \n",
    "T\n",
    " の各文字を先頭から順に交互に文字を並べ、新しい文字列を作ります。この新しくできた文字列を出力してください。"
   ]
  },
  {
   "cell_type": "code",
   "execution_count": null,
   "metadata": {},
   "outputs": [],
   "source": [
    "# N = int(input())\n",
    "S, T = map(str, input().split())\n",
    "#out = []\n",
    "for i in range(N):\n",
    "    print(S[i]+T[i], end=\"\")\n",
    "print()"
   ]
  },
  {
   "cell_type": "markdown",
   "metadata": {},
   "source": [
    "# C - Snack\n",
    "問題文\n",
    "高橋君はパーティを企画しています。\n",
    "\n",
    "パーティーでは参加者に \n",
    "1\n",
    " 人 \n",
    "1\n",
    " 個以上のお菓子を配る予定です。\n",
    "\n",
    "高橋君は参加者の人数が \n",
    "A\n",
    " 人か \n",
    "B\n",
    " 人のどちらかになるだろうという予想を立てました。\n",
    "\n",
    "どちらの場合でも均等に配りきることができるようなお菓子の個数の最小値を求めてください。\n",
    "\n",
    "ただし、 \n",
    "1\n",
    " 個のお菓子を分割して複数人で分けることはできないものとします。"
   ]
  },
  {
   "cell_type": "markdown",
   "metadata": {},
   "source": [
    "## Runtime Error"
   ]
  },
  {
   "cell_type": "code",
   "execution_count": 9,
   "metadata": {},
   "outputs": [
    {
     "name": "stdout",
     "output_type": "stream",
     "text": [
      "123 456\n",
      "18696\n"
     ]
    }
   ],
   "source": [
    "import math\n",
    "\n",
    "A, B = map(int, input().split())\n",
    "\n",
    "def lcm(x, y):\n",
    "    return (x * y) // math.gcd(x, y)\n",
    "\n",
    "print(lcm(A, B))"
   ]
  },
  {
   "cell_type": "markdown",
   "metadata": {},
   "source": [
    "## 正解"
   ]
  },
  {
   "cell_type": "code",
   "execution_count": 12,
   "metadata": {},
   "outputs": [
    {
     "name": "stdout",
     "output_type": "stream",
     "text": [
      "2 3\n",
      "6\n"
     ]
    }
   ],
   "source": [
    "A, B = map(int, input().split())\n",
    "\n",
    "def gcd(a,b):\n",
    "    while b!=0:\n",
    "        a,b=b,a%b\n",
    "    return a\n",
    "\n",
    "#最小公倍数\n",
    "def lcm(a,b):\n",
    "    return a*b//gcd(a,b)\n",
    "print(lcm(A,B))"
   ]
  },
  {
   "cell_type": "markdown",
   "metadata": {},
   "source": [
    "# D - Brick Break\n",
    "問題文\n",
    "N\n",
    " 個のレンガが横一列に並んでいます。\n",
    "\n",
    "左から \n",
    "i\n",
    " \n",
    "(\n",
    "1\n",
    "≤\n",
    "i\n",
    "≤\n",
    "N\n",
    ")\n",
    " 番目のレンガには、整数 \n",
    "a\n",
    "i\n",
    " が書かれています。\n",
    "\n",
    "あなたはこのうち \n",
    "N\n",
    "−\n",
    "1\n",
    " 個以下の任意のレンガを選んで砕くことができます。\n",
    "\n",
    "その結果、\n",
    "K\n",
    " 個のレンガが残っているとします。このとき、任意の整数 \n",
    "i\n",
    " \n",
    "(\n",
    "1\n",
    "≤\n",
    "i\n",
    "≤\n",
    "K\n",
    ")\n",
    " について、残っているレンガの中で左から \n",
    "i\n",
    " 番目のものに書かれた整数が \n",
    "i\n",
    " であるとき、すぬけさんは満足します。\n",
    "\n",
    "すぬけさんが満足するために砕く必要のあるレンガの最小個数を出力してください。もし、どのように砕いてもそれが不可能な場合、代わりに -1 を出力してください。"
   ]
  },
  {
   "cell_type": "code",
   "execution_count": 36,
   "metadata": {},
   "outputs": [
    {
     "name": "stdout",
     "output_type": "stream",
     "text": [
      "1\n",
      "1\n",
      "0\n"
     ]
    }
   ],
   "source": [
    "N = int(input())\n",
    "A = list(map(int, input().split()))\n",
    "\n",
    "counting = 1\n",
    "for i in range(N):\n",
    "    if A[i] == counting:\n",
    "        counting+=1\n",
    "counting-=1\n",
    "\n",
    "if counting==0:\n",
    "    print(-1)\n",
    "else:\n",
    "    print(N-counting)"
   ]
  },
  {
   "cell_type": "markdown",
   "metadata": {},
   "source": [
    "# E - Double Factorial\n",
    "問題文\n",
    "0\n",
    " 以上の整数 \n",
    "n\n",
    " に対し、 \n",
    "f\n",
    "(\n",
    "n\n",
    ")\n",
    " を次のように定義します。\n",
    "\n",
    "f\n",
    "(\n",
    "n\n",
    ")\n",
    "=\n",
    "1\n",
    " (\n",
    "n\n",
    "<\n",
    "2\n",
    " のとき)\n",
    "f\n",
    "(\n",
    "n\n",
    ")\n",
    "=\n",
    "n\n",
    "f\n",
    "(\n",
    "n\n",
    "−\n",
    "2\n",
    ")\n",
    " (\n",
    "n\n",
    "≥\n",
    "2\n",
    " のとき)\n",
    "整数 \n",
    "N\n",
    " が与えられます。\n",
    "f\n",
    "(\n",
    "N\n",
    ")\n",
    " を \n",
    "10\n",
    " 進法で表記した時に末尾に何個の \n",
    "0\n",
    " が続くかを求めてください。"
   ]
  },
  {
   "cell_type": "markdown",
   "metadata": {},
   "source": [
    "# わからなかった"
   ]
  },
  {
   "cell_type": "code",
   "execution_count": 55,
   "metadata": {},
   "outputs": [
    {
     "name": "stdout",
     "output_type": "stream",
     "text": [
      "110\n",
      "228718069649923708810225937558337262561900448925218407360893484871151318466560000000000000\n"
     ]
    }
   ],
   "source": [
    "N = int(input())\n",
    "f = 1\n",
    "\n",
    "while(N>2):\n",
    "    f*=N\n",
    "    N = N-2\n",
    "print(f)"
   ]
  },
  {
   "cell_type": "markdown",
   "metadata": {},
   "source": [
    "## 提出1 WA"
   ]
  },
  {
   "cell_type": "code",
   "execution_count": 90,
   "metadata": {},
   "outputs": [
    {
     "name": "stdout",
     "output_type": "stream",
     "text": [
      "1000\n",
      "120\n"
     ]
    }
   ],
   "source": [
    "N = int(input())\n",
    "\n",
    "if N%2==1:\n",
    "    print(0)\n",
    "else:\n",
    "    A = N//10\n",
    "    B = A//5\n",
    "    print(A+B)\n"
   ]
  },
  {
   "cell_type": "code",
   "execution_count": 88,
   "metadata": {},
   "outputs": [
    {
     "name": "stdout",
     "output_type": "stream",
     "text": [
      "1000000000000000000\n",
      "18\n"
     ]
    }
   ],
   "source": [
    "N = int(input())\n",
    "i = len(str(N))-1\n",
    "\n",
    "count = 0\n",
    "while(N>=10):\n",
    "    A = N//(10*i)\n",
    "    B = A//5\n",
    "    count+=(A+B)\n",
    "    \n",
    "    N=N//10\n",
    "print(count)"
   ]
  },
  {
   "cell_type": "markdown",
   "metadata": {},
   "source": [
    "# F - Playing Tag on Tree\n",
    "問題文\n",
    "N\n",
    " 頂点の木があります。\n",
    "i\n",
    " 番目の辺は頂点 \n",
    "A\n",
    "i\n",
    " と \n",
    "B\n",
    "i\n",
    " を双方向に結んでいます。\n",
    "\n",
    "この木の頂点 \n",
    "u\n",
    " に高橋君が、頂点 \n",
    "v\n",
    " に青木君がいます。\n",
    "\n",
    "2\n",
    " 人は次のような手順で鬼ごっこをします。\n",
    "\n",
    "1\n",
    ". 高橋君と青木君が同じ頂点にいるときゲームを終了する。そうでないとき、高橋君は隣接する頂点を \n",
    "1\n",
    " つ選んでその頂点に移動する。\n",
    "\n",
    "2\n",
    ". 高橋君と青木君が同じ頂点にいるときゲームを終了する。そうでないとき、青木君は隣接する頂点を \n",
    "1\n",
    " つ選んでその頂点に移動する。\n",
    "\n",
    "3\n",
    ". \n",
    "1\n",
    " に戻る。\n",
    "\n",
    "高橋君はできるだけ遅くゲームが終了するように移動し、青木君はできるだけ早くゲームが終了するように移動します。\n",
    "\n",
    "高橋君と青木君が常に互いの位置と戦略を把握し最適に移動するとき、ゲームが終了するまでに青木君が移動する回数を求めてください。\n",
    "\n",
    "なお、ゲームは必ず終了することが証明できます。"
   ]
  },
  {
   "cell_type": "code",
   "execution_count": null,
   "metadata": {},
   "outputs": [],
   "source": []
  }
 ],
 "metadata": {
  "kernelspec": {
   "display_name": "Python 3",
   "language": "python",
   "name": "python3"
  },
  "language_info": {
   "codemirror_mode": {
    "name": "ipython",
    "version": 3
   },
   "file_extension": ".py",
   "mimetype": "text/x-python",
   "name": "python",
   "nbconvert_exporter": "python",
   "pygments_lexer": "ipython3",
   "version": "3.7.5"
  }
 },
 "nbformat": 4,
 "nbformat_minor": 2
}
