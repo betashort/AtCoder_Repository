{
 "cells": [
  {
   "cell_type": "markdown",
   "metadata": {},
   "source": [
    "# AtCoder Beginners Selection"
   ]
  },
  {
   "cell_type": "markdown",
   "metadata": {},
   "source": [
    "## Product"
   ]
  },
  {
   "cell_type": "code",
   "execution_count": null,
   "metadata": {},
   "outputs": [],
   "source": []
  },
  {
   "cell_type": "markdown",
   "metadata": {},
   "source": [
    "## Placing Marbles"
   ]
  },
  {
   "cell_type": "code",
   "execution_count": null,
   "metadata": {},
   "outputs": [],
   "source": [
    "s = input()\n",
    "count = 0\n",
    "if(s[0]=='1'):\n",
    "    count+=1\n",
    "if(s[1]=='1'):\n",
    "    count+=1\n",
    "if(s[2]=='1'):\n",
    "    count+=1\n",
    "print(count)\n",
    "  "
   ]
  },
  {
   "cell_type": "markdown",
   "metadata": {},
   "source": [
    "## Shift only"
   ]
  },
  {
   "cell_type": "code",
   "execution_count": null,
   "metadata": {},
   "outputs": [],
   "source": [
    "N = int(input())\n",
    "a = [int(i) for i in input().split()]\n",
    "counter=0\n",
    "flag = False\n",
    "while(True):\n",
    "    for i in range(N):\n",
    "        if a[i]%2!=0:\n",
    "            flag = True\n",
    "    if flag:\n",
    "        break\n",
    "        \n",
    "    a = [i/2 for i in a]\n",
    "    counter+=1\n",
    "print(counter)"
   ]
  },
  {
   "cell_type": "markdown",
   "metadata": {},
   "source": [
    "## Coins"
   ]
  },
  {
   "cell_type": "code",
   "execution_count": null,
   "metadata": {},
   "outputs": [],
   "source": [
    "A = int(input())\n",
    "B = int(input())\n",
    "C = int(input())\n",
    "X = int(input())\n",
    "res = 0\n",
    "for a in range(A+1):\n",
    "    for b in range(B+1):\n",
    "        for c in range(C+1):\n",
    "            if 500*(a) + 100*(b) + 50*(c) == X:\n",
    "                res+=1\n",
    "                \n",
    "print(res)\n"
   ]
  },
  {
   "cell_type": "markdown",
   "metadata": {},
   "source": [
    "## Some Sums"
   ]
  },
  {
   "cell_type": "code",
   "execution_count": null,
   "metadata": {},
   "outputs": [],
   "source": [
    "N, A, B = map(int, input().split())\n",
    "\n",
    "def s(n):\n",
    "    nsum = 0\n",
    "    while(n>0):\n",
    "        nsum += n%10\n",
    "        n = int(n/10)\n",
    "    return nsum\n",
    "\n",
    "total = 0\n",
    "\n",
    "for i in range(N):\n",
    "    nsum = s(i+1)\n",
    "    if (nsum>=A and nsum<=B):\n",
    "        #print(i+1)\n",
    "        total+=(i+1)\n",
    "print(total)\n"
   ]
  },
  {
   "cell_type": "markdown",
   "metadata": {},
   "source": [
    "## Card Game for Two"
   ]
  },
  {
   "cell_type": "code",
   "execution_count": null,
   "metadata": {},
   "outputs": [],
   "source": [
    "N = int(input())\n",
    "a = [int(i) for i in input().split()]\n",
    "\n",
    "a.sort(reverse=True)\n",
    "\n",
    "Alice = 0\n",
    "Bob = 0\n",
    "for i in range(N):\n",
    "    if i%2==0:\n",
    "        Alice+=a[i]\n",
    "    else:\n",
    "        Bob+=a[i]\n",
    "    \n",
    "print(Alice-Bob)\n"
   ]
  },
  {
   "cell_type": "markdown",
   "metadata": {},
   "source": [
    "## Kagami Mochi"
   ]
  },
  {
   "cell_type": "code",
   "execution_count": null,
   "metadata": {},
   "outputs": [],
   "source": [
    "N = int(input())\n",
    "mochi = set()\n",
    "for i in range(N):\n",
    "    mochi.add(int(input()))\n",
    "print(len(mochi))\n"
   ]
  },
  {
   "cell_type": "markdown",
   "metadata": {},
   "source": [
    "## Otoshidama"
   ]
  },
  {
   "cell_type": "code",
   "execution_count": null,
   "metadata": {},
   "outputs": [],
   "source": []
  },
  {
   "cell_type": "markdown",
   "metadata": {},
   "source": [
    "## 白昼夢 / Daydream"
   ]
  },
  {
   "cell_type": "code",
   "execution_count": null,
   "metadata": {},
   "outputs": [],
   "source": [
    "s=input().replace(\"eraser\",\"\").replace(\"erase\",\"\").replace(\"dreamer\",\"\").replace(\"dream\",\"\")\n",
    "if s:\n",
    "    print(\"NO\")\n",
    "else:\n",
    "    print(\"YES\")\n"
   ]
  },
  {
   "cell_type": "markdown",
   "metadata": {},
   "source": [
    "## Traveling"
   ]
  },
  {
   "cell_type": "code",
   "execution_count": null,
   "metadata": {},
   "outputs": [],
   "source": [
    "n = int(input())\n",
    "for i in range(n):\n",
    "    t,x,y=map(int,input().split())\n",
    "    if (x + y) > t or (x + y + t) % 2:\n",
    "        print(\"No\")\n",
    "        exit()\n",
    "print(\"Yes\")"
   ]
  }
 ],
 "metadata": {
  "kernelspec": {
   "display_name": "Python 3",
   "language": "python",
   "name": "python3"
  },
  "language_info": {
   "codemirror_mode": {
    "name": "ipython",
    "version": 3
   },
   "file_extension": ".py",
   "mimetype": "text/x-python",
   "name": "python",
   "nbconvert_exporter": "python",
   "pygments_lexer": "ipython3",
   "version": "3.7.5"
  }
 },
 "nbformat": 4,
 "nbformat_minor": 2
}
