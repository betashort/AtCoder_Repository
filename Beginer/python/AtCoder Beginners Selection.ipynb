{
 "cells": [
  {
   "cell_type": "markdown",
   "metadata": {},
   "source": [
    "# AtCoder Beginners Selection\n",
    "https://atcoder.jp/contests/abs"
   ]
  },
  {
   "cell_type": "markdown",
   "metadata": {},
   "source": [
    "## Product\n",
    "シカのAtCoDeerくんは二つの正整数 \n",
    "a\n",
    ",\n",
    "b\n",
    " を見つけました。 \n",
    "a\n",
    " と \n",
    "b\n",
    " の積が偶数か奇数か判定してください。"
   ]
  },
  {
   "cell_type": "code",
   "execution_count": 1,
   "metadata": {},
   "outputs": [
    {
     "name": "stdin",
     "output_type": "stream",
     "text": [
      " 3 4\n"
     ]
    },
    {
     "name": "stdout",
     "output_type": "stream",
     "text": [
      "Even\n"
     ]
    }
   ],
   "source": [
    "a, b = map(int, input().split())\n",
    "c = a*b\n",
    "if c%2==0:\n",
    "    print('Even')\n",
    "else:\n",
    "    print('Odd')"
   ]
  },
  {
   "cell_type": "markdown",
   "metadata": {},
   "source": [
    "## Placing Marbles\n",
    "すぬけ君は \n",
    "1\n",
    ",\n",
    "2\n",
    ",\n",
    "3\n",
    " の番号がついた \n",
    "3\n",
    " つのマスからなるマス目を持っています。 各マスには 0 か 1 が書かれており、マス \n",
    "i\n",
    " には \n",
    "s\n",
    "i\n",
    " が書かれています。\n",
    "\n",
    "すぬけ君は 1 が書かれたマスにビー玉を置きます。 ビー玉が置かれるマスがいくつあるか求めてください。"
   ]
  },
  {
   "cell_type": "code",
   "execution_count": null,
   "metadata": {},
   "outputs": [],
   "source": [
    "s = input()\n",
    "count = 0\n",
    "if(s[0]=='1'):\n",
    "    count+=1\n",
    "if(s[1]=='1'):\n",
    "    count+=1\n",
    "if(s[2]=='1'):\n",
    "    count+=1\n",
    "print(count)\n",
    "  "
   ]
  },
  {
   "cell_type": "markdown",
   "metadata": {},
   "source": [
    "## Shift only\n",
    "黒板に \n",
    "N\n",
    " 個の正の整数 \n",
    "A\n",
    "1\n",
    ",\n",
    ".\n",
    ".\n",
    ".\n",
    ",\n",
    "A\n",
    "N\n",
    " が書かれています．\n",
    "\n",
    "すぬけ君は，黒板に書かれている整数がすべて偶数であるとき，次の操作を行うことができます．\n",
    "\n",
    "黒板に書かれている整数すべてを，\n",
    "2\n",
    " で割ったものに置き換える．\n",
    "すぬけ君は最大で何回操作を行うことができるかを求めてください．"
   ]
  },
  {
   "cell_type": "code",
   "execution_count": null,
   "metadata": {},
   "outputs": [],
   "source": [
    "N = int(input())\n",
    "a = [int(i) for i in input().split()]\n",
    "counter=0\n",
    "flag = False\n",
    "while(True):\n",
    "    for i in range(N):\n",
    "        if a[i]%2!=0:\n",
    "            flag = True\n",
    "    if flag:\n",
    "        break\n",
    "        \n",
    "    a = [i/2 for i in a]\n",
    "    counter+=1\n",
    "print(counter)"
   ]
  },
  {
   "cell_type": "markdown",
   "metadata": {},
   "source": [
    "## Coins\n",
    "あなたは、\n",
    "500\n",
    " 円玉を \n",
    "A\n",
    " 枚、\n",
    "100\n",
    " 円玉を \n",
    "B\n",
    " 枚、\n",
    "50\n",
    " 円玉を \n",
    "C\n",
    " 枚持っています。 これらの硬貨の中から何枚かを選び、合計金額をちょうど \n",
    "X\n",
    " 円にする方法は何通りありますか。\n",
    "\n",
    "同じ種類の硬貨どうしは区別できません。2 通りの硬貨の選び方は、ある種類の硬貨についてその硬貨を選ぶ枚数が異なるとき区別されます。"
   ]
  },
  {
   "cell_type": "code",
   "execution_count": null,
   "metadata": {},
   "outputs": [],
   "source": [
    "A = int(input())\n",
    "B = int(input())\n",
    "C = int(input())\n",
    "X = int(input())\n",
    "res = 0\n",
    "for a in range(A+1):\n",
    "    for b in range(B+1):\n",
    "        for c in range(C+1):\n",
    "            if 500*(a) + 100*(b) + 50*(c) == X:\n",
    "                res+=1\n",
    "                \n",
    "print(res)\n"
   ]
  },
  {
   "cell_type": "markdown",
   "metadata": {},
   "source": [
    "## Some Sums\n",
    "1\n",
    " 以上 \n",
    "N\n",
    " 以下の整数のうち、\n",
    "10\n",
    " 進法での各桁の和が \n",
    "A\n",
    " 以上 \n",
    "B\n",
    " 以下であるものの総和を求めてください。"
   ]
  },
  {
   "cell_type": "code",
   "execution_count": null,
   "metadata": {},
   "outputs": [],
   "source": [
    "N, A, B = map(int, input().split())\n",
    "\n",
    "def s(n):\n",
    "    nsum = 0\n",
    "    while(n>0):\n",
    "        nsum += n%10\n",
    "        n = int(n/10)\n",
    "    return nsum\n",
    "\n",
    "total = 0\n",
    "\n",
    "for i in range(N):\n",
    "    nsum = s(i+1)\n",
    "    if (nsum>=A and nsum<=B):\n",
    "        #print(i+1)\n",
    "        total+=(i+1)\n",
    "print(total)\n"
   ]
  },
  {
   "cell_type": "markdown",
   "metadata": {},
   "source": [
    "## Card Game for Two\n",
    "N\n",
    " 枚のカードがあります. \n",
    "i\n",
    " 枚目のカードには, \n",
    "a\n",
    "i\n",
    " という数が書かれています.\n",
    "Alice と Bob は, これらのカードを使ってゲームを行います. ゲームでは, Alice と Bob が交互に 1 枚ずつカードを取っていきます. Alice が先にカードを取ります.\n",
    "2 人がすべてのカードを取ったときゲームは終了し, 取ったカードの数の合計がその人の得点になります. 2 人とも自分の得点を最大化するように最適な戦略を取った時, Alice は Bob より何点多く取るか求めてください."
   ]
  },
  {
   "cell_type": "code",
   "execution_count": null,
   "metadata": {},
   "outputs": [],
   "source": [
    "N = int(input())\n",
    "a = [int(i) for i in input().split()]\n",
    "\n",
    "a.sort(reverse=True)\n",
    "\n",
    "Alice = 0\n",
    "Bob = 0\n",
    "for i in range(N):\n",
    "    if i%2==0:\n",
    "        Alice+=a[i]\n",
    "    else:\n",
    "        Bob+=a[i]\n",
    "    \n",
    "print(Alice-Bob)\n"
   ]
  },
  {
   "cell_type": "markdown",
   "metadata": {},
   "source": [
    "## Kagami Mochi\n",
    "X\n",
    " 段重ねの鏡餅 \n",
    "(\n",
    "X\n",
    "≥\n",
    "1\n",
    ")\n",
    " とは、\n",
    "X\n",
    " 枚の円形の餅を縦に積み重ねたものであって、どの餅もその真下の餅より直径が小さい（一番下の餅を除く）もののことです。例えば、直径 \n",
    "10\n",
    "、\n",
    "8\n",
    "、\n",
    "6\n",
    " センチメートルの餅をこの順に下から積み重ねると \n",
    "3\n",
    " 段重ねの鏡餅になり、餅を一枚だけ置くと \n",
    "1\n",
    " 段重ねの鏡餅になります。\n",
    "\n",
    "ダックスフンドのルンルンは \n",
    "N\n",
    " 枚の円形の餅を持っていて、そのうち \n",
    "i\n",
    " 枚目の餅の直径は \n",
    "d\n",
    "i\n",
    " センチメートルです。これらの餅のうち一部または全部を使って鏡餅を作るとき、最大で何段重ねの鏡餅を作ることができるでしょうか。"
   ]
  },
  {
   "cell_type": "code",
   "execution_count": null,
   "metadata": {},
   "outputs": [],
   "source": [
    "N = int(input())\n",
    "mochi = set()\n",
    "for i in range(N):\n",
    "    mochi.add(int(input()))\n",
    "print(len(mochi))\n"
   ]
  },
  {
   "cell_type": "markdown",
   "metadata": {},
   "source": [
    "## Otoshidama\n",
    "日本でよく使われる紙幣は、\n",
    "10000\n",
    " 円札、\n",
    "5000\n",
    " 円札、\n",
    "1000\n",
    " 円札です。以下、「お札」とはこれらのみを指します。\n",
    "\n",
    "青橋くんが言うには、彼が祖父から受け取ったお年玉袋にはお札が \n",
    "N\n",
    " 枚入っていて、合計で \n",
    "Y\n",
    " 円だったそうですが、嘘かもしれません。このような状況がありうるか判定し、ありうる場合はお年玉袋の中身の候補を一つ見つけてください。なお、彼の祖父は十分裕福であり、お年玉袋は十分大きかったものとします。"
   ]
  },
  {
   "cell_type": "code",
   "execution_count": 4,
   "metadata": {},
   "outputs": [
    {
     "name": "stdin",
     "output_type": "stream",
     "text": [
      " 1000 1234000\n"
     ]
    },
    {
     "name": "stdout",
     "output_type": "stream",
     "text": [
      "26 0 974\n"
     ]
    }
   ],
   "source": [
    "N, Y = map(int, input().split())\n",
    " \n",
    "a_n = -1\n",
    "b_n = -1\n",
    "c_n = -1\n",
    "for a in range(N+1):\n",
    "    for b in range(N+1):\n",
    "        c = N-a-b\n",
    "        total = (10000*a + 5000*b + 1000*c)\n",
    "        if (total == Y) and c >= 0:\n",
    "            a_n = a\n",
    "            b_n = b\n",
    "            c_n = c\n",
    "            #print(total)\n",
    "            \n",
    "print(\"{} {} {}\".format(a_n, b_n, c_n))"
   ]
  },
  {
   "cell_type": "markdown",
   "metadata": {},
   "source": [
    "## 白昼夢 / Daydream\n",
    "英小文字からなる文字列 \n",
    "S\n",
    " が与えられます。 \n",
    "T\n",
    "が空文字列である状態から始め、以下の操作を好きな回数繰り返すことで \n",
    "S\n",
    "=\n",
    "T\n",
    " とすることができるか判定してください。\n",
    "\n",
    "T\n",
    " の末尾に dream dreamer erase eraser のいずれかを追加する。"
   ]
  },
  {
   "cell_type": "code",
   "execution_count": null,
   "metadata": {},
   "outputs": [],
   "source": [
    "s=input().replace(\"eraser\",\"\").replace(\"erase\",\"\").replace(\"dreamer\",\"\").replace(\"dream\",\"\")\n",
    "if s:\n",
    "    print(\"NO\")\n",
    "else:\n",
    "    print(\"YES\")\n"
   ]
  },
  {
   "cell_type": "markdown",
   "metadata": {},
   "source": [
    "## Traveling\n",
    "シカのAtCoDeerくんは二次元平面上で旅行をしようとしています。 AtCoDeerくんの旅行プランでは、時刻 \n",
    "0\n",
    " に 点 \n",
    "(\n",
    "0\n",
    ",\n",
    "0\n",
    ")\n",
    " を出発し、 \n",
    "1\n",
    " 以上 \n",
    "N\n",
    " 以下の各 \n",
    "i\n",
    " に対し、時刻 \n",
    "t\n",
    "i\n",
    " に 点 \n",
    "(\n",
    "x\n",
    "i\n",
    ",\n",
    "y\n",
    "i\n",
    ")\n",
    " を訪れる予定です。\n",
    "\n",
    "AtCoDeerくんが時刻 \n",
    "t\n",
    " に 点 \n",
    "(\n",
    "x\n",
    ",\n",
    "y\n",
    ")\n",
    " にいる時、 時刻 \n",
    "t\n",
    "+\n",
    "1\n",
    " には 点 \n",
    "(\n",
    "x\n",
    "+\n",
    "1\n",
    ",\n",
    "y\n",
    ")\n",
    ", \n",
    "(\n",
    "x\n",
    "−\n",
    "1\n",
    ",\n",
    "y\n",
    ")\n",
    ", \n",
    "(\n",
    "x\n",
    ",\n",
    "y\n",
    "+\n",
    "1\n",
    ")\n",
    ", \n",
    "(\n",
    "x\n",
    ",\n",
    "y\n",
    "−\n",
    "1\n",
    ")\n",
    " のうちいずれかに存在することができます。 その場にとどまることは出来ないことに注意してください。 AtCoDeerくんの旅行プランが実行可能かどうか判定してください。"
   ]
  },
  {
   "cell_type": "code",
   "execution_count": 5,
   "metadata": {},
   "outputs": [
    {
     "name": "stdin",
     "output_type": "stream",
     "text": [
      " 2\n",
      " 3 1 2\n",
      " 6 1 1\n"
     ]
    },
    {
     "name": "stdout",
     "output_type": "stream",
     "text": [
      "Yes\n"
     ]
    }
   ],
   "source": [
    "n = int(input())\n",
    "for i in range(n):\n",
    "    t,x,y=map(int,input().split())\n",
    "    if (x + y) > t or (x + y + t) % 2:\n",
    "        print(\"No\")\n",
    "        exit()\n",
    "print(\"Yes\")"
   ]
  },
  {
   "cell_type": "code",
   "execution_count": null,
   "metadata": {},
   "outputs": [],
   "source": [
    "2\n",
    "3 1 2\n",
    "6 1 1"
   ]
  }
 ],
 "metadata": {
  "kernelspec": {
   "display_name": "Python 3",
   "language": "python",
   "name": "python3"
  },
  "language_info": {
   "codemirror_mode": {
    "name": "ipython",
    "version": 3
   },
   "file_extension": ".py",
   "mimetype": "text/x-python",
   "name": "python",
   "nbconvert_exporter": "python",
   "pygments_lexer": "ipython3",
   "version": "3.7.5"
  }
 },
 "nbformat": 4,
 "nbformat_minor": 4
}
