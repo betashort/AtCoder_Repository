{
 "cells": [
  {
   "cell_type": "markdown",
   "metadata": {},
   "source": [
    "# 深さ優先探索\n",
    "https://ja.wikipedia.org/wiki/%E6%B7%B1%E3%81%95%E5%84%AA%E5%85%88%E6%8E%A2%E7%B4%A2\n",
    "DFS(Depth-first search)  \n",
    "木やグラフを探索するためのアルゴリズム  \n",
    "<img src=\"./Depth-first-tree.png\">\n",
    "\n",
    "探索対象からなる最初のノードから、目的のノードが見つかるか、このないノードに行き着くまで、深く伸びていく探索\n",
    "バックトラックして、最も近くの探索の終わっていないノードまで戻る。\n",
    "非再帰的な実装では、新しく見つかったノードはスタックに貯める。\n"
   ]
  },
  {
   "cell_type": "markdown",
   "metadata": {},
   "source": [
    "## 再帰あり\n",
    "```\n",
    "function 深さ優先探索(v)\n",
    "    v に訪問済みの印を付ける\n",
    "    v を処理する\n",
    "    for each v に接続している頂点 i do\n",
    "        if i が未訪問 then\n",
    "            深さ優先探索(i)\n",
    "```"
   ]
  },
  {
   "cell_type": "code",
   "execution_count": null,
   "metadata": {},
   "outputs": [],
   "source": []
  },
  {
   "cell_type": "markdown",
   "metadata": {},
   "source": [
    "## 再帰なし\n",
    "```\n",
    "function 深さ優先探索(v)\n",
    "    S ← 空のスタック\n",
    "    v に訪問済みの印を付ける\n",
    "    v を S に積む\n",
    "    while S が空ではない do\n",
    "        v ← S から取り出す\n",
    "        v を処理する\n",
    "        for each v に接続している頂点 i do\n",
    "            if i が未訪問 then\n",
    "                i に訪問済みの印を付ける\n",
    "                i を S に積む\n",
    "```"
   ]
  },
  {
   "cell_type": "code",
   "execution_count": null,
   "metadata": {},
   "outputs": [],
   "source": []
  }
 ],
 "metadata": {
  "kernelspec": {
   "display_name": "Python 3",
   "language": "python",
   "name": "python3"
  },
  "language_info": {
   "codemirror_mode": {
    "name": "ipython",
    "version": 3
   },
   "file_extension": ".py",
   "mimetype": "text/x-python",
   "name": "python",
   "nbconvert_exporter": "python",
   "pygments_lexer": "ipython3",
   "version": "3.7.5"
  }
 },
 "nbformat": 4,
 "nbformat_minor": 4
}
