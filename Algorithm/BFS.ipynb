{
 "cells": [
  {
   "cell_type": "markdown",
   "metadata": {},
   "source": [
    "# 幅優先探索\n",
    "https://ja.wikipedia.org/wiki/%E5%B9%85%E5%84%AA%E5%85%88%E6%8E%A2%E7%B4%A2\n",
    "breadth first search(BFS)  \n",
    "木構造やグラフの探索に用いられるアルゴリズム  \n",
    "根ノードで始まり隣接した全てのノードを探索する。  \n",
    "それからこれらの最も近いノードのそれぞれに対して同様のことを繰り返して探索対象を見つける。\n",
    "<img src=\"Breadth-first-tree.png\">"
   ]
  },
  {
   "cell_type": "code",
   "execution_count": null,
   "metadata": {},
   "outputs": [],
   "source": []
  },
  {
   "cell_type": "markdown",
   "metadata": {},
   "source": [
    "```\n",
    "function 幅優先探索(v)\n",
    "    Q ← 空のキュー\n",
    "    v に訪問済みの印を付ける\n",
    "    v を Q に追加\n",
    "    while Q が空ではない do\n",
    "        v ← Q から取り出す\n",
    "        v を処理する\n",
    "        for each v に接続している頂点 i do\n",
    "            if i が未訪問 then\n",
    "                i に訪問済みの印を付ける\n",
    "                i を Q に追加\n",
    "```"
   ]
  },
  {
   "cell_type": "code",
   "execution_count": null,
   "metadata": {},
   "outputs": [],
   "source": []
  }
 ],
 "metadata": {
  "kernelspec": {
   "display_name": "Python 3",
   "language": "python",
   "name": "python3"
  },
  "language_info": {
   "codemirror_mode": {
    "name": "ipython",
    "version": 3
   },
   "file_extension": ".py",
   "mimetype": "text/x-python",
   "name": "python",
   "nbconvert_exporter": "python",
   "pygments_lexer": "ipython3",
   "version": "3.7.5"
  }
 },
 "nbformat": 4,
 "nbformat_minor": 4
}
