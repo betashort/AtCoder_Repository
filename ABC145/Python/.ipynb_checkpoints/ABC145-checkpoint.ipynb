{
 "cells": [
  {
   "cell_type": "code",
   "execution_count": null,
   "metadata": {},
   "outputs": [],
   "source": []
  },
  {
   "cell_type": "markdown",
   "metadata": {},
   "source": [
    "## A - Circle\n",
    "\n",
    "整数 \n",
    "r\n",
    " が与えられます。\n",
    "\n",
    "半径 \n",
    "r\n",
    " の円の面積が半径 \n",
    "1\n",
    " の円の面積の何倍になるかを求めてください。\n",
    "\n",
    "なお答えは制約の下では必ず整数になることが示せます。"
   ]
  },
  {
   "cell_type": "code",
   "execution_count": 2,
   "metadata": {},
   "outputs": [
    {
     "name": "stdout",
     "output_type": "stream",
     "text": [
      "1\n",
      "1\n"
     ]
    }
   ],
   "source": [
    "r = int(input())\n",
    "print(r**2)"
   ]
  },
  {
   "cell_type": "markdown",
   "metadata": {},
   "source": [
    "## B - Echo\n",
    "正整数 \n",
    "N\n",
    " 及び、長さ \n",
    "N\n",
    " の英小文字から成る文字列 \n",
    "S\n",
    " が与えられます。\n",
    "\n",
    "この文字列が、ある文字列を二度繰り返したものであるかを判定してください。 則ち、文字列 \n",
    "T\n",
    " であって、 \n",
    "S\n",
    "=\n",
    "T\n",
    "+\n",
    "T\n",
    " となるものが存在するかを判定してください。"
   ]
  },
  {
   "cell_type": "code",
   "execution_count": 13,
   "metadata": {},
   "outputs": [
    {
     "name": "stdout",
     "output_type": "stream",
     "text": [
      "6\n",
      "abcadc\n",
      "No\n"
     ]
    }
   ],
   "source": [
    "N = int(input())\n",
    "S = input()\n",
    "if N%2==1:\n",
    "    print(\"No\")\n",
    "else:\n",
    "    center = int(len(S)/2)\n",
    "    if S == S[:center]*2:\n",
    "        print(\"Yes\")\n",
    "    else:\n",
    "        print(\"No\")"
   ]
  },
  {
   "cell_type": "markdown",
   "metadata": {},
   "source": [
    "# C - Average Length\n",
    "座標平面上に \n",
    "N\n",
    " 個の町があります。町 \n",
    "i\n",
    " は、座標 ( \n",
    "x\n",
    "i\n",
    " , \n",
    "y\n",
    "i\n",
    " ) に位置しています。町 \n",
    "i\n",
    " と町 \n",
    "j\n",
    " の間の距離は \n",
    "√\n",
    "(\n",
    "x\n",
    "i\n",
    "−\n",
    "x\n",
    "j\n",
    ")\n",
    "2\n",
    "+\n",
    "(\n",
    "y\n",
    "i\n",
    "−\n",
    "y\n",
    "j\n",
    ")\n",
    "2\n",
    " です。\n",
    "\n",
    "これらの町を全て \n",
    "1\n",
    " 回ずつ訪れるとき、町を訪れる経路は全部で \n",
    "N\n",
    "!\n",
    " 通りあります。\n",
    "1\n",
    " 番目に訪れる町から出発し、\n",
    "2\n",
    " 番目に訪れる町、\n",
    "3\n",
    " 番目に訪れる町、\n",
    "…\n",
    "、を経由し、\n",
    "N\n",
    " 番目に訪れる町に到着するまでの移動距離 (町から町への移動は直線移動とします) を、その経路の長さとします。これらの \n",
    "N\n",
    "!\n",
    " 通りの経路の長さの平均値を計算してください。"
   ]
  },
  {
   "cell_type": "code",
   "execution_count": null,
   "metadata": {},
   "outputs": [],
   "source": []
  }
 ],
 "metadata": {
  "kernelspec": {
   "display_name": "Python 3",
   "language": "python",
   "name": "python3"
  },
  "language_info": {
   "codemirror_mode": {
    "name": "ipython",
    "version": 3
   },
   "file_extension": ".py",
   "mimetype": "text/x-python",
   "name": "python",
   "nbconvert_exporter": "python",
   "pygments_lexer": "ipython3",
   "version": "3.7.5"
  }
 },
 "nbformat": 4,
 "nbformat_minor": 2
}
