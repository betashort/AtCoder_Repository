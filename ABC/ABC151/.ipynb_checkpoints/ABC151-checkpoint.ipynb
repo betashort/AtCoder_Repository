{
 "cells": [
  {
   "cell_type": "markdown",
   "metadata": {},
   "source": [
    "# 1"
   ]
  },
  {
   "cell_type": "code",
   "execution_count": 6,
   "metadata": {},
   "outputs": [
    {
     "name": "stdin",
     "output_type": "stream",
     "text": [
      " g\n"
     ]
    },
    {
     "name": "stdout",
     "output_type": "stream",
     "text": [
      "h\n"
     ]
    }
   ],
   "source": [
    "C = input()\n",
    "\n",
    "alpha = [chr(i) for i in range(97, 97+26)]\n",
    "\n",
    "print(alpha[alpha.index(C)+1])\n"
   ]
  },
  {
   "cell_type": "markdown",
   "metadata": {},
   "source": [
    "# 2"
   ]
  },
  {
   "cell_type": "markdown",
   "metadata": {},
   "source": [
    "高橋君は \n",
    "N\n",
    " 科目のテストを受けます。各テストは \n",
    "K\n",
    " 点満点であり、点数はそれぞれ \n",
    "0\n",
    " 以上の整数です。\n",
    "\n",
    "高橋君は \n",
    "N\n",
    "−\n",
    "1\n",
    " 科目のテストを既に受けており、\n",
    "i\n",
    " 番目の科目のテストの点数は \n",
    "A\n",
    "i\n",
    " 点でした。\n",
    "\n",
    "高橋君の目標は、\n",
    "N\n",
    " 科目のテストの平均点を \n",
    "M\n",
    " 点以上にすることです。\n",
    "\n",
    "高橋君が目標を達成するためには、最後のテストで最低何点取る必要があるか出力してください。\n",
    "\n",
    "達成不可能である場合は、代わりに -1 を出力してください。"
   ]
  },
  {
   "cell_type": "code",
   "execution_count": 27,
   "metadata": {},
   "outputs": [
    {
     "name": "stdin",
     "output_type": "stream",
     "text": [
      " 4 100 60\n",
      " 0 0 0\n"
     ]
    },
    {
     "name": "stdout",
     "output_type": "stream",
     "text": [
      "-1\n"
     ]
    }
   ],
   "source": [
    "N, K, M = map(int, input().split())\n",
    "\n",
    "A = [int(a) for a in input().split()]\n",
    "\n",
    "point = N*M-sum(A)\n",
    "\n",
    "if point <= 0:\n",
    "    print(0)\n",
    "elif point<=K:\n",
    "    print(point)\n",
    "else:\n",
    "    print(-1)"
   ]
  },
  {
   "cell_type": "code",
   "execution_count": 22,
   "metadata": {},
   "outputs": [],
   "source": [
    "4 100 60\n",
    "100 100 100"
   ]
  },
  {
   "cell_type": "code",
   "execution_count": null,
   "metadata": {},
   "outputs": [],
   "source": [
    "4 100 60\n",
    "0 0 0"
   ]
  },
  {
   "cell_type": "markdown",
   "metadata": {},
   "source": [
    "# 3"
   ]
  },
  {
   "cell_type": "markdown",
   "metadata": {},
   "source": [
    "高橋君は AtCoder のコンテストに参加しています。\n",
    "\n",
    "このコンテストでは、 \n",
    "N\n",
    " 問の問題が出題されます。\n",
    "\n",
    "高橋君はコンテスト中に \n",
    "M\n",
    " 回の提出を行いました。\n",
    "\n",
    "i\n",
    " 回目の提出は \n",
    "p\n",
    "i\n",
    " 番目の問題への提出であり、結果は \n",
    "S\n",
    "i\n",
    " (AC または WA) でした。\n",
    "\n",
    "高橋君の正答数は、AC を \n",
    "1\n",
    " 回以上出した問題の数です。\n",
    "\n",
    "高橋君のペナルティ数は、高橋君が AC を \n",
    "1\n",
    " 回以上出した各問題において、初めて AC を出すまでに出した WA の数の総和です。\n",
    "\n",
    "高橋君の正答数とペナルティ数を答えてください。\n",
    "\n",
    "制約"
   ]
  },
  {
   "cell_type": "code",
   "execution_count": 47,
   "metadata": {},
   "outputs": [
    {
     "name": "stdin",
     "output_type": "stream",
     "text": [
      " 1 WA\n",
      " 1 AC\n",
      " 2 WA\n",
      " 2 AC\n",
      " 2 WA\n"
     ]
    },
    {
     "name": "stdout",
     "output_type": "stream",
     "text": [
      "2 2\n"
     ]
    }
   ],
   "source": [
    "N, M = map(int, input().split())\n",
    "\n",
    "cnt=[0]*N\n",
    "ans=[0]*N\n",
    "\n",
    "ac=0\n",
    "wa=0\n",
    "\n",
    "for i in range(M):\n",
    "    p, s = input().split()\n",
    "    p=int(p)-1\n",
    "    \n",
    "    if ans[p] == 1:\n",
    "        continue\n",
    "    elif s == 'AC':\n",
    "        ans[p]=1\n",
    "        ac+=1\n",
    "        wa+=cnt[p]\n",
    "    else:\n",
    "        cnt[p]+=1\n",
    "    \n",
    "print(ac, wa)"
   ]
  },
  {
   "cell_type": "markdown",
   "metadata": {},
   "source": [
    "## 答え"
   ]
  },
  {
   "cell_type": "code",
   "execution_count": null,
   "metadata": {},
   "outputs": [],
   "source": [
    "n,m=map(int,input().split())\n",
    "cnt=[0 for i in range(n)]\n",
    "done=[False for i in range(n)]\n",
    "\n",
    "ac, pen = 0, 0\n",
    "\n",
    "for i in range(m):\n",
    "    p,s=input().split()\n",
    "    p=int(p)\n",
    "    p-=1\n",
    "    if done[p]:\n",
    "        continue\n",
    "    elif s=='AC':\n",
    "        done[p]=True\n",
    "        ac += 1\n",
    "        pen += cnt[p]\n",
    "    else:\n",
    "        cnt[p] += 1\n",
    "print('{} {}'.format(ac,pen))"
   ]
  },
  {
   "cell_type": "markdown",
   "metadata": {},
   "source": [
    "# 4"
   ]
  },
  {
   "cell_type": "markdown",
   "metadata": {},
   "source": [
    "高橋君は、縦 \n",
    "H\n",
    " マス、横 \n",
    "W\n",
    " マスの \n",
    "H\n",
    "×\n",
    "W\n",
    " マスからなる迷路を持っています。\n",
    "\n",
    "上から \n",
    "i\n",
    " 行目、左から \n",
    "j\n",
    " 列目のマス \n",
    "(\n",
    "i\n",
    ",\n",
    "j\n",
    ")\n",
    " は、 \n",
    "S\n",
    "i\n",
    "j\n",
    " が # のとき壁であり、. のとき道です。\n",
    "\n",
    "道のマスからは、上下左右に隣接する道のマスに移動することができます。\n",
    "\n",
    "迷路の外に移動すること、壁のマスへ移動すること、斜めに移動することはできません。\n",
    "\n",
    "高橋君は、道のマスからスタートとゴールを自由に決め、迷路を青木君に渡します。\n",
    "\n",
    "青木君は、移動回数が最小になるようにしてスタートからゴールまで移動します。\n",
    "\n",
    "高橋君がスタートとゴールの位置を適切に定めたとき、青木君の移動回数は最大で何回になるでしょうか？"
   ]
  },
  {
   "cell_type": "markdown",
   "metadata": {},
   "source": [
    "## 答え\n",
    "\n",
    "BFS(幅優先探索)を使う。\n"
   ]
  },
  {
   "cell_type": "code",
   "execution_count": 48,
   "metadata": {},
   "outputs": [
    {
     "name": "stdin",
     "output_type": "stream",
     "text": [
      " 3 3\n",
      " ...\n",
      " ...\n",
      " ...\n"
     ]
    },
    {
     "name": "stdout",
     "output_type": "stream",
     "text": [
      "4\n"
     ]
    }
   ],
   "source": [
    "from collections import deque\n",
    " \n",
    "h, w = map(int, input().split())\n",
    "s = [list(input()) for _ in range(h)]\n",
    " \n",
    "dirr = ((1, 0), (0, 1), (-1, 0), (0, -1))\n",
    "ans = 0\n",
    "for i in range(h):\n",
    "    for j in range(w):\n",
    "        if s[i][j] == '#': \n",
    "            continue\n",
    "        q = deque()\n",
    "        q.append((i, j, 0))\n",
    "        visited = [[False] * w for _ in range(h)]\n",
    "        visited[i][j] = True\n",
    "        while q:\n",
    "            x, y, z = q.popleft()\n",
    "            for dx, dy in dirr:\n",
    "                nx, ny = x + dx, y + dy\n",
    "                if 0 <= nx < h and 0 <= ny < w:\n",
    "                    if not visited[nx][ny] and s[nx][ny] == '.':\n",
    "                        q.append((nx, ny, z + 1))\n",
    "                        if z + 1 > ans: \n",
    "                            ans = z + 1\n",
    "                        visited[nx][ny] = True\n",
    "print(ans)"
   ]
  },
  {
   "cell_type": "code",
   "execution_count": null,
   "metadata": {},
   "outputs": [],
   "source": [
    "3 3\n",
    "...\n",
    "...\n",
    "..."
   ]
  },
  {
   "cell_type": "code",
   "execution_count": null,
   "metadata": {},
   "outputs": [],
   "source": [
    "3 5\n",
    "...#.\n",
    ".#.#.\n",
    ".#..."
   ]
  },
  {
   "cell_type": "markdown",
   "metadata": {},
   "source": [
    "# 5"
   ]
  },
  {
   "cell_type": "markdown",
   "metadata": {},
   "source": [
    "有限個の整数からなる集合 \n",
    "X\n",
    " に対し \n",
    "f\n",
    "(\n",
    "X\n",
    ")\n",
    "=\n",
    "max\n",
    "X\n",
    "−\n",
    "min\n",
    "X\n",
    " と定義します。\n",
    "\n",
    "N\n",
    " 個の整数 \n",
    "A\n",
    "1\n",
    ",\n",
    ".\n",
    ".\n",
    ".\n",
    ",\n",
    "A\n",
    "N\n",
    " が与えられます。\n",
    "\n",
    "このうち \n",
    "K\n",
    " 個を選び、それらからなる集合を \n",
    "S\n",
    " とします。同じ値であっても添字が異なる要素を区別すると、そのような選び方は \n",
    "N\n",
    "C\n",
    "K\n",
    " 通りありますが、その全てについての \n",
    "f\n",
    "(\n",
    "S\n",
    ")\n",
    " の合計を求めてください。\n",
    "\n",
    "答えは非常に大きくなる可能性があるので、\n",
    "mod\n",
    "10\n",
    "9\n",
    "+\n",
    "7\n",
    " で出力してください"
   ]
  },
  {
   "cell_type": "markdown",
   "metadata": {},
   "source": [
    "# スタックとキュー\n",
    "https://docs.python.org/ja/3/tutorial/datastructures.html\n",
    "\n",
    "スタック=>DFS 深さ優先探索  \n",
    "キュー=>BFS 幅優先探索\n"
   ]
  },
  {
   "cell_type": "code",
   "execution_count": null,
   "metadata": {},
   "outputs": [],
   "source": []
  },
  {
   "cell_type": "code",
   "execution_count": null,
   "metadata": {},
   "outputs": [],
   "source": [
    "#スタック\n",
    "list.append()\n",
    "list.pop()\n",
    "#キュー\n",
    "from collections import deque\n",
    "queue = deque([\"Eric\", \"John\", \"Michael\"])\n",
    "queue.append(\"Terry\")\n",
    "queue.append(\"Graham\") \n",
    "queue.popleft()\n",
    "queue.popleft() \n",
    "queue"
   ]
  },
  {
   "cell_type": "markdown",
   "metadata": {},
   "source": [
    "# 文字のリスト"
   ]
  },
  {
   "cell_type": "markdown",
   "metadata": {},
   "source": [
    "https://qiita.com/okkn/items/3aef4458ed2269a59d63"
   ]
  },
  {
   "cell_type": "code",
   "execution_count": 34,
   "metadata": {},
   "outputs": [],
   "source": [
    "import string\n",
    "\n",
    "a = [i for i in string.ascii_lowercase]"
   ]
  },
  {
   "cell_type": "code",
   "execution_count": 36,
   "metadata": {},
   "outputs": [],
   "source": [
    "b = [chr(i) for i in range(97, 97+26)]"
   ]
  },
  {
   "cell_type": "code",
   "execution_count": null,
   "metadata": {},
   "outputs": [],
   "source": [
    "a = [i for i in string.ascii_uppercase]\n",
    "[chr(i) for i in range(65, 65+26)]"
   ]
  },
  {
   "cell_type": "code",
   "execution_count": null,
   "metadata": {},
   "outputs": [],
   "source": []
  },
  {
   "cell_type": "markdown",
   "metadata": {},
   "source": [
    "# リストのインデックス\n",
    "https://note.nkmk.me/python-list-index/"
   ]
  },
  {
   "cell_type": "code",
   "execution_count": null,
   "metadata": {},
   "outputs": [],
   "source": [
    "print([i for i, x in enumerate(l_dup) if x == 'a'])"
   ]
  },
  {
   "cell_type": "markdown",
   "metadata": {},
   "source": [
    "# BFS\n",
    "\n",
    "```\n",
    "入力：スタートの頂点, グラフの隣接行列\n",
    "出力；頂点から到達できる全ての頂点\n",
    "\n",
    "1. queueと到達した頂点を保存するためのsetを用意し、それぞれに頂点vを追加する\n",
    "2. キューから頂点を取り出す\n",
    "3. 取り出した頂点の隣にある全ての頂点に対して以下の処理を行う\n",
    "setに入っていなければ、queueとsetの両方に追加する\n",
    "4. queueが空ならsetを出力して、終了する\n",
    "そうでなければ、2へ移動\n",
    "```"
   ]
  },
  {
   "cell_type": "code",
   "execution_count": null,
   "metadata": {},
   "outputs": [],
   "source": [
    "from collections import deque\n",
    "\n",
    "def BFS(start, W):\n",
    "    '''\n",
    "    隣接行列W\n",
    "    '''\n",
    "    #リストをキューにする\n",
    "    queue = deque([])\n",
    "    visited = set()\n",
    "    \n",
    "    queue.append(start)\n",
    "    visited.add(start)\n",
    "    \n",
    "    while queue:\n",
    "        #今いる頂点\n",
    "        here = queue.popleft()\n",
    "        \n",
    "        for i, node in enumerate(W[here]):\n",
    "            if node == 0:\n",
    "                continue\n",
    "            if i not in visited:\n",
    "                queue.append(i)\n",
    "                visited.add(i)\n",
    "    return visited"
   ]
  },
  {
   "cell_type": "markdown",
   "metadata": {},
   "source": [
    "# numpy\n",
    "https://pythondatascience.plavox.info/numpy/%E4%B9%B1%E6%95%B0%E3%82%92%E7%94%9F%E6%88%90"
   ]
  },
  {
   "cell_type": "markdown",
   "metadata": {},
   "source": [
    "# F - Enclose All"
   ]
  },
  {
   "cell_type": "markdown",
   "metadata": {},
   "source": [
    "## 問題文\n",
    "平面上の \n",
    "N\n",
    " 個の点 \n",
    "(\n",
    "x\n",
    "i\n",
    ",\n",
    "y\n",
    "i\n",
    ")\n",
    " が与えられます。\n",
    "\n",
    "これら全てを内部または周上に含む円の半径の最小値を求めてください。\n",
    "\n",
    "## 制約\n",
    "* 2\n",
    "≤\n",
    "N\n",
    "≤\n",
    "50\n",
    "* 0\n",
    "≤\n",
    "x\n",
    "i\n",
    "≤\n",
    "1000\n",
    "* 0\n",
    "≤\n",
    "y\n",
    "i\n",
    "≤\n",
    "1000\n",
    "* 与えられる \n",
    "N\n",
    " 点は全て異なる\n",
    "* 入力で与えられる値は全て整数"
   ]
  },
  {
   "cell_type": "code",
   "execution_count": null,
   "metadata": {},
   "outputs": [],
   "source": []
  }
 ],
 "metadata": {
  "kernelspec": {
   "display_name": "Python 3",
   "language": "python",
   "name": "python3"
  },
  "language_info": {
   "codemirror_mode": {
    "name": "ipython",
    "version": 3
   },
   "file_extension": ".py",
   "mimetype": "text/x-python",
   "name": "python",
   "nbconvert_exporter": "python",
   "pygments_lexer": "ipython3",
   "version": "3.7.5"
  }
 },
 "nbformat": 4,
 "nbformat_minor": 4
}
