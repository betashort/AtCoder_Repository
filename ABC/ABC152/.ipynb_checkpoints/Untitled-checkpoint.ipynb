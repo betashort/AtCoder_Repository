{
 "cells": [
  {
   "cell_type": "code",
   "execution_count": null,
   "metadata": {},
   "outputs": [],
   "source": []
  },
  {
   "cell_type": "markdown",
   "metadata": {},
   "source": [
    "## 問題文\n",
    "高橋君は、プログラミングコンテスト AXC001 に参加しており、問題 A にコードを提出しました。\n",
    "この問題には \n",
    "N\n",
    " 個のテストケースがあり、すべてのテストケースに正解した場合のみ提出は AC となります。\n",
    "高橋君の提出は、\n",
    "N\n",
    " 個のテストケースのうち \n",
    "M\n",
    " 個のテストケースに正解しました。\n",
    "高橋君の提出が AC となるか判定してください。"
   ]
  },
  {
   "cell_type": "code",
   "execution_count": 1,
   "metadata": {},
   "outputs": [
    {
     "name": "stdin",
     "output_type": "stream",
     "text": [
      " 3 2\n"
     ]
    },
    {
     "name": "stdout",
     "output_type": "stream",
     "text": [
      "No\n"
     ]
    }
   ],
   "source": [
    "N, M = map(int, input().split())\n",
    "if (N==M):\n",
    "    print(\"Yes\")\n",
    "else:\n",
    "    print(\"No\")"
   ]
  },
  {
   "cell_type": "code",
   "execution_count": null,
   "metadata": {},
   "outputs": [],
   "source": []
  },
  {
   "cell_type": "markdown",
   "metadata": {},
   "source": [
    "## 問題文\n",
    "1\n",
    " 桁の正整数 \n",
    "a\n",
    " ,\n",
    "b\n",
    " が与えられます。整数 \n",
    "a\n",
    " を \n",
    "b\n",
    " 回繰り返してできる文字列と 整数 \n",
    "b\n",
    " を \n",
    "a\n",
    " 回繰り返してできる文字列のうち、辞書順で小さい方を答えてください。"
   ]
  },
  {
   "cell_type": "code",
   "execution_count": 12,
   "metadata": {},
   "outputs": [
    {
     "name": "stdin",
     "output_type": "stream",
     "text": [
      " 4 3\n"
     ]
    },
    {
     "name": "stdout",
     "output_type": "stream",
     "text": [
      "3333\n"
     ]
    }
   ],
   "source": [
    "a,b = map(str, input().split())\n",
    "\n",
    "a_b = (a*int(b))\n",
    "b_a = (b*int(a))\n",
    "\n",
    "if a_b < b_a:\n",
    "    print(a_b)\n",
    "else:\n",
    "    print(b_a)"
   ]
  },
  {
   "cell_type": "markdown",
   "metadata": {},
   "source": [
    "# C - Low Elements"
   ]
  },
  {
   "cell_type": "markdown",
   "metadata": {},
   "source": [
    "## 問題文\n",
    "1\n",
    ",\n",
    "…\n",
    ",\n",
    "N\n",
    " の順列 \n",
    "P\n",
    "1\n",
    ",\n",
    "…\n",
    ",\n",
    "P\n",
    "N\n",
    " が与えられます。\n",
    "次の条件を満たす整数 \n",
    "i\n",
    "(\n",
    "1\n",
    "≤\n",
    "i\n",
    "≤\n",
    "N\n",
    ")\n",
    " の個数を数えてください。\n",
    "\n",
    "任意の整数 \n",
    "j\n",
    "(\n",
    "1\n",
    "≤\n",
    "j\n",
    "≤\n",
    "i\n",
    ")\n",
    " に対して、 \n",
    "P\n",
    "i\n",
    "≤\n",
    "P\n",
    "j"
   ]
  },
  {
   "cell_type": "markdown",
   "metadata": {},
   "source": [
    "## タイムオーバー"
   ]
  },
  {
   "cell_type": "code",
   "execution_count": 61,
   "metadata": {},
   "outputs": [
    {
     "name": "stdin",
     "output_type": "stream",
     "text": [
      " 5\n",
      " 1 23 4 3 2\n"
     ]
    },
    {
     "name": "stdout",
     "output_type": "stream",
     "text": [
      "1\n"
     ]
    }
   ],
   "source": [
    "N = int(input())\n",
    "P = [int(i) for i in input().split()]\n",
    "P_min = min(P)\n",
    "\n",
    "count = 1\n",
    "for i in range(N-1):\n",
    "    if P[i+1] == P_min:\n",
    "        count+=1\n",
    "        break\n",
    "    if min(P[:i+1]) > P[i+1]:\n",
    "        count+=1\n",
    "\n",
    "print(count)"
   ]
  },
  {
   "cell_type": "markdown",
   "metadata": {},
   "source": [
    "## 解答"
   ]
  },
  {
   "cell_type": "code",
   "execution_count": 46,
   "metadata": {},
   "outputs": [
    {
     "data": {
      "text/plain": [
       "2"
      ]
     },
     "execution_count": 46,
     "metadata": {},
     "output_type": "execute_result"
    }
   ],
   "source": []
  },
  {
   "cell_type": "markdown",
   "metadata": {},
   "source": [
    "## 問題文\n",
    "正の整数 \n",
    "N\n",
    " が与えられます。\n",
    "N\n",
    " 以下の正の整数の組 \n",
    "(\n",
    "A\n",
    ",\n",
    "B\n",
    ")\n",
    " であって、次の条件を満たすものの個数を求めてください。\n",
    "\n",
    "A\n",
    ",\n",
    "B\n",
    " を先頭に \n",
    "0\n",
    " のつかない \n",
    "10\n",
    " 進数表記で表したときに、 \n",
    "A\n",
    " の末尾の桁が \n",
    "B\n",
    " の先頭の桁に等しく、 \n",
    "A\n",
    " の先頭の桁が \n",
    "B\n",
    " の末尾の桁に等しい"
   ]
  },
  {
   "cell_type": "code",
   "execution_count": 32,
   "metadata": {},
   "outputs": [
    {
     "name": "stdin",
     "output_type": "stream",
     "text": [
      " 100\n"
     ]
    },
    {
     "name": "stdout",
     "output_type": "stream",
     "text": [
      "108\n"
     ]
    }
   ],
   "source": [
    "N = int(input())\n",
    "\n",
    "count = 0\n",
    "for i in range(N):\n",
    "    for j in range(N):\n",
    "        A = str(i+1)\n",
    "        B = str(j+1)\n",
    "        \n",
    "        if A[0] == B[-1] and A[-1] == B[0]:\n",
    "            count+=1\n",
    "            #print(A, B)\n",
    "print(count)"
   ]
  },
  {
   "cell_type": "code",
   "execution_count": 33,
   "metadata": {},
   "outputs": [
    {
     "data": {
      "text/plain": [
       "100"
      ]
     },
     "execution_count": 33,
     "metadata": {},
     "output_type": "execute_result"
    }
   ],
   "source": []
  },
  {
   "cell_type": "code",
   "execution_count": null,
   "metadata": {},
   "outputs": [],
   "source": []
  },
  {
   "cell_type": "markdown",
   "metadata": {},
   "source": [
    "## 問題文\n",
    "N\n",
    " 個の正整数 \n",
    "A\n",
    "1\n",
    ",\n",
    ".\n",
    ".\n",
    ".\n",
    ",\n",
    "A\n",
    "N\n",
    " が与えられます。\n",
    "\n",
    "次の条件を満たすような正整数 \n",
    "B\n",
    "1\n",
    ",\n",
    ".\n",
    ".\n",
    ".\n",
    ",\n",
    "B\n",
    "N\n",
    " を考えます。\n",
    "\n",
    "条件：\n",
    "1\n",
    "≤\n",
    "i\n",
    "<\n",
    "j\n",
    "≤\n",
    "N\n",
    " を満たすどのような \n",
    "i\n",
    ",\n",
    "j\n",
    " についても \n",
    "A\n",
    "i\n",
    "B\n",
    "i\n",
    "=\n",
    "A\n",
    "j\n",
    "B\n",
    "j\n",
    " が成り立つ。\n",
    "\n",
    "このような \n",
    "B\n",
    "1\n",
    ",\n",
    ".\n",
    ".\n",
    ".\n",
    ",\n",
    "B\n",
    "N\n",
    " における \n",
    "B\n",
    "1\n",
    "+\n",
    ".\n",
    ".\n",
    ".\n",
    "+\n",
    "B\n",
    "N\n",
    " の最小値を求めてください。\n",
    "\n",
    "ただし、答えは非常に大きくなる可能性があるため、\n",
    "(\n",
    "10\n",
    "9\n",
    "+\n",
    "7\n",
    ")\n",
    " で割ったあまりを出力してください。"
   ]
  },
  {
   "cell_type": "code",
   "execution_count": null,
   "metadata": {},
   "outputs": [],
   "source": []
  }
 ],
 "metadata": {
  "kernelspec": {
   "display_name": "Python 3",
   "language": "python",
   "name": "python3"
  },
  "language_info": {
   "codemirror_mode": {
    "name": "ipython",
    "version": 3
   },
   "file_extension": ".py",
   "mimetype": "text/x-python",
   "name": "python",
   "nbconvert_exporter": "python",
   "pygments_lexer": "ipython3",
   "version": "3.7.5"
  }
 },
 "nbformat": 4,
 "nbformat_minor": 4
}
