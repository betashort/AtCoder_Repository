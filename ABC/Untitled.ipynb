{
 "cells": [
  {
   "cell_type": "code",
   "execution_count": 19,
   "metadata": {},
   "outputs": [],
   "source": [
    "import math"
   ]
  },
  {
   "cell_type": "code",
   "execution_count": 33,
   "metadata": {},
   "outputs": [
    {
     "name": "stdout",
     "output_type": "stream",
     "text": [
      "1900\n",
      "1100\n"
     ]
    }
   ],
   "source": [
    "N = int(input())\n",
    "\n",
    "yen1000 = round(N / 1000)\n",
    "change = (yen1000+1)*1000 - N\n",
    "\n",
    "print(change)"
   ]
  },
  {
   "cell_type": "code",
   "execution_count": 34,
   "metadata": {},
   "outputs": [
    {
     "name": "stdout",
     "output_type": "stream",
     "text": [
      "6\n",
      "AC\n",
      "TLE\n",
      "AC\n",
      "AC\n",
      "WA\n",
      "TLE\n",
      "AC x 3\n",
      "WA x 1\n",
      "TLE x 2\n",
      "RE x 0\n",
      "\n"
     ]
    }
   ],
   "source": [
    "N = int(input())\n",
    "ac = 0\n",
    "wa = 0\n",
    "tle = 0\n",
    "re = 0\n",
    "\n",
    "for i in range(N):\n",
    "    c = input()\n",
    "    \n",
    "    if c == \"AC\":\n",
    "        ac = ac + 1\n",
    "    elif c == \"WA\":\n",
    "        wa = wa + 1\n",
    "    elif c == \"TLE\":\n",
    "        tle = tle + 1\n",
    "    elif c == \"RE\":\n",
    "        re = re + 1\n",
    "\n",
    "print(f'AC x {ac}\\nWA x {wa}\\nTLE x {tle}\\nRE x {re}\\n')"
   ]
  },
  {
   "cell_type": "code",
   "execution_count": 27,
   "metadata": {},
   "outputs": [
    {
     "data": {
      "text/plain": [
       "0"
      ]
     },
     "execution_count": 27,
     "metadata": {},
     "output_type": "execute_result"
    }
   ],
   "source": [
    "change"
   ]
  },
  {
   "cell_type": "code",
   "execution_count": null,
   "metadata": {},
   "outputs": [],
   "source": []
  }
 ],
 "metadata": {
  "kernelspec": {
   "display_name": "Python 3",
   "language": "python",
   "name": "python3"
  },
  "language_info": {
   "codemirror_mode": {
    "name": "ipython",
    "version": 3
   },
   "file_extension": ".py",
   "mimetype": "text/x-python",
   "name": "python",
   "nbconvert_exporter": "python",
   "pygments_lexer": "ipython3",
   "version": "3.7.5"
  }
 },
 "nbformat": 4,
 "nbformat_minor": 4
}
