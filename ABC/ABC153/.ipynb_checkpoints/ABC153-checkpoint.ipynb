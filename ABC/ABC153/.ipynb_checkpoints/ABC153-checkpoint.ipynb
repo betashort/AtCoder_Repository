{
 "cells": [
  {
   "cell_type": "markdown",
   "metadata": {},
   "source": [
    "# A - Serval vs Monster"
   ]
  },
  {
   "cell_type": "markdown",
   "metadata": {},
   "source": [
    "## 問題文\n",
    "サーバルはモンスターと戦っています。\n",
    "\n",
    "モンスターの体力は \n",
    "H\n",
    " です。\n",
    "\n",
    "サーバルが攻撃を \n",
    "1\n",
    " 回行うとモンスターの体力を \n",
    "A\n",
    " 減らすことができます。 攻撃以外の方法でモンスターの体力を減らすことはできません。\n",
    "\n",
    "モンスターの体力を \n",
    "0\n",
    " 以下にすればサーバルの勝ちです。\n",
    "\n",
    "サーバルがモンスターに勝つために必要な攻撃の回数を求めてください。"
   ]
  },
  {
   "cell_type": "code",
   "execution_count": 2,
   "metadata": {},
   "outputs": [
    {
     "name": "stdin",
     "output_type": "stream",
     "text": [
      " 1 10000\n"
     ]
    },
    {
     "name": "stdout",
     "output_type": "stream",
     "text": [
      "1\n"
     ]
    }
   ],
   "source": [
    "import math\n",
    "\n",
    "H, A = map(int, input().split())\n",
    "print(math.ceil(H/A))"
   ]
  },
  {
   "cell_type": "markdown",
   "metadata": {},
   "source": [
    "# B - Common Raccoon vs Monster"
   ]
  },
  {
   "cell_type": "markdown",
   "metadata": {},
   "source": [
    "## 問題文\n",
    "アライグマはモンスターと戦っています。\n",
    "\n",
    "モンスターの体力は \n",
    "H\n",
    " です。\n",
    "\n",
    "アライグマは \n",
    "N\n",
    " 種類の必殺技を使うことができ、\n",
    "i\n",
    " 番目の必殺技を使うとモンスターの体力を \n",
    "A\n",
    "i\n",
    " 減らすことができます。 必殺技を使う以外の方法でモンスターの体力を減らすことはできません。\n",
    "\n",
    "モンスターの体力を \n",
    "0\n",
    " 以下にすればアライグマの勝ちです。\n",
    "\n",
    "アライグマが同じ必殺技を \n",
    "2\n",
    " 度以上使うことなくモンスターに勝つことができるなら Yes を、できないなら No を出力してください。"
   ]
  },
  {
   "cell_type": "code",
   "execution_count": 6,
   "metadata": {},
   "outputs": [
    {
     "name": "stdin",
     "output_type": "stream",
     "text": [
      " 210 5\n",
      " 31 41 59 26 53\n"
     ]
    }
   ],
   "source": [
    "H, N = map(int, input().split())\n",
    "A = list(map(int, input().split()))\n",
    "\n",
    "if H <= sum(A):\n",
    "    print('Yes')\n",
    "else:\n",
    "    print('No')"
   ]
  },
  {
   "cell_type": "markdown",
   "metadata": {},
   "source": [
    "# C - Fennec vs Monster"
   ]
  },
  {
   "cell_type": "markdown",
   "metadata": {},
   "source": [
    "## 問題文\n",
    "フェネックは \n",
    "N\n",
    " 体のモンスターと戦っています。\n",
    "\n",
    "i\n",
    " 番目のモンスターの体力は \n",
    "H\n",
    "i\n",
    " です。\n",
    "\n",
    "フェネックは次の \n",
    "2\n",
    " 種類の行動を行うことができます。\n",
    "\n",
    "* 攻撃：モンスターを \n",
    "1\n",
    " 体選んで攻撃することで、そのモンスターの体力を \n",
    "1\n",
    " 減らす\n",
    "* 必殺技：モンスターを \n",
    "1\n",
    " 体選んで必殺技を使うことで、そのモンスターの体力を \n",
    "0\n",
    " にする\n",
    " \n",
    "攻撃と必殺技以外の方法でモンスターの体力を減らすことはできません。\n",
    "\n",
    "全てのモンスターの体力を \n",
    "0\n",
    " 以下にすればフェネックの勝ちです。\n",
    "\n",
    "フェネックが \n",
    "K\n",
    " 回まで必殺技を使えるとき、モンスターに勝つまでに行う攻撃の回数 (必殺技は数えません) の最小値を求めてください。"
   ]
  },
  {
   "cell_type": "code",
   "execution_count": 26,
   "metadata": {},
   "outputs": [
    {
     "name": "stdin",
     "output_type": "stream",
     "text": [
      " 3 0\n",
      " 1000000000 1000000000 1000000000\n"
     ]
    },
    {
     "name": "stdout",
     "output_type": "stream",
     "text": [
      "3000000000\n"
     ]
    }
   ],
   "source": [
    "N, K = map(int, input().split())\n",
    "H = list(map(int, input().split()))\n",
    "\n",
    "H.sort()\n",
    "\n",
    "if K >= N:\n",
    "    print(0)\n",
    "else:\n",
    "    for _ in range(K):\n",
    "        H.pop()\n",
    "    print(sum(H))"
   ]
  },
  {
   "cell_type": "markdown",
   "metadata": {},
   "source": [
    "# D - Caracal vs Monster"
   ]
  },
  {
   "cell_type": "markdown",
   "metadata": {},
   "source": [
    "## 問題文\n",
    "カラカルはモンスターと戦っています。\n",
    "\n",
    "モンスターの体力は \n",
    "H\n",
    " です。\n",
    "\n",
    "カラカルはモンスターを \n",
    "1\n",
    " 体選んで攻撃することができます。モンスターを攻撃したとき、攻撃対象のモンスターの体力に応じて、次のどちらかが起こります。\n",
    "\n",
    "* モンスターの体力が \n",
    "1\n",
    " なら、そのモンスターの体力は \n",
    "0\n",
    " になる\n",
    "* モンスターの体力が \n",
    "X>1\n",
    " なら、そのモンスターは消滅し、体力が \n",
    "⌊\n",
    "X\n",
    "/\n",
    "2\n",
    "⌋\n",
    " のモンスターが新たに \n",
    "2\n",
    " 体現れる\n",
    " \n",
    "（\n",
    "⌊\n",
    "r\n",
    "⌋\n",
    " は \n",
    "r\n",
    " を超えない最大の整数を表す）\n",
    "\n",
    "全てのモンスターの体力を \n",
    "0\n",
    " 以下にすればカラカルの勝ちです。\n",
    "\n",
    "カラカルがモンスターに勝つまでに行う攻撃の回数の最小値を求めてください。\n",
    "\n",
    "制約"
   ]
  },
  {
   "cell_type": "code",
   "execution_count": 48,
   "metadata": {},
   "outputs": [
    {
     "name": "stdin",
     "output_type": "stream",
     "text": [
      " 100\n"
     ]
    },
    {
     "name": "stdout",
     "output_type": "stream",
     "text": [
      "127\n"
     ]
    }
   ],
   "source": [
    "H = int(input())\n",
    "\n",
    "ans=0\n",
    "n=1\n",
    "while(H!=1):\n",
    "    ans+=n\n",
    "    H = int(H/2)\n",
    "    n=n*2\n",
    "    #print(\"ans:\", ans)\n",
    "    #print(\"n:\", n)\n",
    "    \n",
    "print(ans+n)"
   ]
  },
  {
   "cell_type": "markdown",
   "metadata": {},
   "source": [
    "# E - Crested Ibis vs Monster"
   ]
  },
  {
   "cell_type": "markdown",
   "metadata": {},
   "source": [
    "## 問題文\n",
    "トキはモンスターと戦っています。\n",
    "\n",
    "モンスターの体力は \n",
    "H\n",
    " です。\n",
    "\n",
    "トキは \n",
    "N\n",
    " 種類の魔法が使え、\n",
    "i\n",
    " 番目の魔法を使うと、モンスターの体力を \n",
    "A\n",
    "i\n",
    " 減らすことができますが、トキの魔力を \n",
    "B\n",
    "i\n",
    " 消耗します。\n",
    "\n",
    "同じ魔法は何度でも使うことができます。魔法以外の方法でモンスターの体力を減らすことはできません。\n",
    "\n",
    "モンスターの体力を \n",
    "0\n",
    " 以下にすればトキの勝ちです。\n",
    "\n",
    "トキがモンスターに勝つまでに消耗する魔力の合計の最小値を求めてください。"
   ]
  },
  {
   "cell_type": "markdown",
   "metadata": {},
   "source": [
    "### 目的関数\n",
    "$Min{\\sum{(B_i+B_m+\\dots)}}$\n",
    "\n",
    "### 制約条件\n",
    "$\\sum{(A_i+A_m+\\dots)}>=H$\n"
   ]
  },
  {
   "cell_type": "markdown",
   "metadata": {},
   "source": [
    "## 見たサイト\n",
    "* https://qiita.com/SaitoTsutomu/items/bfbf4c185ed7004b5721\n",
    "\n",
    "* "
   ]
  },
  {
   "cell_type": "markdown",
   "metadata": {},
   "source": [
    "## わからなかった"
   ]
  },
  {
   "cell_type": "markdown",
   "metadata": {},
   "source": [
    "## 解答"
   ]
  },
  {
   "cell_type": "markdown",
   "metadata": {},
   "source": [
    "# F - Silver Fox vs Monster"
   ]
  },
  {
   "cell_type": "markdown",
   "metadata": {},
   "source": [
    "## 問題文\n",
    "ギンギツネは \n",
    "N\n",
    " 体のモンスターと戦っています。\n",
    "\n",
    "モンスターは \n",
    "1\n",
    " 列に並んでおり、数直線上にいるとみなすことができます。\n",
    "i\n",
    " 番目のモンスターは座標 \n",
    "X\n",
    "i\n",
    " にいて、体力は \n",
    "H\n",
    "i\n",
    " です。\n",
    "\n",
    "ギンギツネは爆弾を使ってモンスターを攻撃することができます。 座標 \n",
    "x\n",
    " で爆弾を使うと、座標が \n",
    "x\n",
    "−\n",
    "D\n",
    " 以上 \n",
    "x\n",
    "+\n",
    "D\n",
    " 以下の範囲にいる全てのモンスターの体力を \n",
    "A\n",
    " 減らすことができます。 爆弾を使う以外の方法でモンスターの体力を減らすことはできません。\n",
    "\n",
    "全てのモンスターの体力を \n",
    "0\n",
    " 以下にすればギンギツネの勝ちです。\n",
    "\n",
    "ギンギツネがモンスターに勝つまでに爆弾を使う回数の最小値を求めてください。"
   ]
  },
  {
   "cell_type": "markdown",
   "metadata": {},
   "source": [
    "## わからなかった"
   ]
  },
  {
   "cell_type": "markdown",
   "metadata": {},
   "source": [
    "## 解答"
   ]
  },
  {
   "cell_type": "code",
   "execution_count": null,
   "metadata": {},
   "outputs": [],
   "source": []
  }
 ],
 "metadata": {
  "kernelspec": {
   "display_name": "Python 3",
   "language": "python",
   "name": "python3"
  },
  "language_info": {
   "codemirror_mode": {
    "name": "ipython",
    "version": 3
   },
   "file_extension": ".py",
   "mimetype": "text/x-python",
   "name": "python",
   "nbconvert_exporter": "python",
   "pygments_lexer": "ipython3",
   "version": "3.7.5"
  }
 },
 "nbformat": 4,
 "nbformat_minor": 4
}
