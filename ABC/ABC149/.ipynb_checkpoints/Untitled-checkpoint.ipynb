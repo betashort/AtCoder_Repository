{
 "cells": [
  {
   "cell_type": "markdown",
   "metadata": {},
   "source": [
    "# A - Strings\n",
    "英小文字のみからなる \n",
    "2\n",
    " つの文字列 \n",
    "S\n",
    ", \n",
    "T\n",
    " が与えられます。これらの文字列を \n",
    "T\n",
    ", \n",
    "S\n",
    " の順に空白を空けずに連結し、できる文字列を出力してください。"
   ]
  },
  {
   "cell_type": "code",
   "execution_count": 1,
   "metadata": {},
   "outputs": [
    {
     "name": "stdin",
     "output_type": "stream",
     "text": [
      " oder atc\n"
     ]
    }
   ],
   "source": [
    "S, T = input().split()\n",
    "print(T+S)"
   ]
  },
  {
   "cell_type": "markdown",
   "metadata": {},
   "source": [
    "# B - Greedy Takahashi\n",
    "問題文  \n",
    "高橋君は \n",
    "A\n",
    " 枚、青木君は \n",
    "B\n",
    " 枚のクッキーを持っています。\n",
    "\n",
    "高橋君は以下の行動を \n",
    "K\n",
    " 回繰り返します。\n",
    "\n",
    "もし高橋君がクッキーを \n",
    "1\n",
    " 枚以上持っているなら、高橋君のクッキーを \n",
    "1\n",
    " 枚食べる。\n",
    "そうでなく、もし青木君がクッキーを \n",
    "1\n",
    " 枚以上持っているなら、青木君のクッキーを \n",
    "1\n",
    " 枚食べる。\n",
    "高橋君も青木君もクッキーを持っていないなら、何もしない。\n",
    "高橋君と青木君が最終的に持っているクッキーの枚数をそれぞれ求めてください。"
   ]
  },
  {
   "cell_type": "code",
   "execution_count": 8,
   "metadata": {},
   "outputs": [
    {
     "name": "stdin",
     "output_type": "stream",
     "text": [
      " 500000000000 500000000000 1000000000000\n"
     ]
    },
    {
     "name": "stdout",
     "output_type": "stream",
     "text": [
      "0 0\n"
     ]
    }
   ],
   "source": [
    "A, B, K = map(int, input().split())\n",
    "\n",
    "if K > A:\n",
    "    if A+B-K > 0:\n",
    "        print(0, A+B-K)\n",
    "    else:\n",
    "        print(0, 0)\n",
    "else:\n",
    "    print(A-K, B)"
   ]
  },
  {
   "cell_type": "markdown",
   "metadata": {},
   "source": [
    "# C - Next Prime\n",
    "問題文\n",
    "X\n",
    " 以上の素数のうち、最小のものを求めよ。"
   ]
  },
  {
   "cell_type": "markdown",
   "metadata": {},
   "source": [
    "バツ"
   ]
  },
  {
   "cell_type": "code",
   "execution_count": 54,
   "metadata": {},
   "outputs": [
    {
     "name": "stdin",
     "output_type": "stream",
     "text": [
      " 2\n"
     ]
    },
    {
     "name": "stdout",
     "output_type": "stream",
     "text": [
      "2\n"
     ]
    }
   ],
   "source": [
    "def is_prime(q):\n",
    "    q = abs(q)\n",
    "    if q == 2: return True\n",
    "    if q < 2 or q&1 == 0: return False\n",
    "    return pow(2, q-1, q) == 1\n",
    "\n",
    "X = int(input())\n",
    "\n",
    "while(True):\n",
    "    flag = is_prime(X)\n",
    "    if flag:\n",
    "        print(X)\n",
    "        break\n",
    "    if X%2==0:\n",
    "        X+=1\n",
    "    else:\n",
    "        X+=2"
   ]
  },
  {
   "cell_type": "code",
   "execution_count": null,
   "metadata": {},
   "outputs": [],
   "source": []
  },
  {
   "cell_type": "code",
   "execution_count": null,
   "metadata": {},
   "outputs": [],
   "source": [
    "def is_prime(q):\n",
    "    q = abs(q)\n",
    "    if q == 2: return True\n",
    "    if q < 2 or q&1 == 0: return False\n",
    "    return pow(2, q-1, q) == 1\n",
    " \n",
    "X = int(input())\n",
    " \n",
    "while(True):\n",
    "    flag = is_prime(X)\n",
    "    if flag:\n",
    "        print(X)\n",
    "        break\n",
    "    X+=1"
   ]
  },
  {
   "cell_type": "markdown",
   "metadata": {},
   "source": [
    "# D - Prediction and Restriction\n",
    "高橋君は、ゲームセンターで「じゃんけんバトル」というゲームをプレイすることにしました。このゲームのルールは以下の通りです。\n",
    "\n",
    "プレイヤーは筐体と \n",
    "N\n",
    " 回じゃんけんを行う (あいこの場合も \n",
    "1\n",
    " 回のジャンケンと数える)。\n",
    "プレイヤーがじゃんけんで勝った場合、プレイヤーは出した手に応じて以下のスコアを得る (あいこや負けは \n",
    "0\n",
    " 点)。\n",
    "グーで勝った場合、 \n",
    "R\n",
    " 点\n",
    "チョキで勝った場合、 \n",
    "S\n",
    " 点\n",
    "パーで勝った場合、 \n",
    "P\n",
    " 点\n",
    "ただし、ちょうど \n",
    "K\n",
    " 回前のじゃんけんで出した手と同じ手を出すことはできない。( \n",
    "K\n",
    " 回目までのじゃんけんでは好きな手を出せる。)\n",
    "筐体は、各回のジャンケンで出す手をゲーム開始前に決定します。能力者である高橋君は、ゲーム開始前にこれをすべて読み取りました。\n",
    "\n",
    "高橋君が読み取った情報は文字列 \n",
    "T\n",
    " として与えられます。\n",
    "T\n",
    " の \n",
    "i\n",
    "(\n",
    "1\n",
    "≤\n",
    "i\n",
    "≤\n",
    "N\n",
    ")\n",
    " 文字目が r のときは \n",
    "i\n",
    " 回目のじゃんけんで筐体がグーを出すことを、s のときはチョキを出すことを、p のときはパーを出すことを表します。\n",
    "\n",
    "高橋君が \n",
    "N\n",
    " 回のじゃんけんで出す手を最適に選んだとき、ゲーム終了までに最大で合計何点を得られるでしょうか。"
   ]
  },
  {
   "cell_type": "code",
   "execution_count": 55,
   "metadata": {},
   "outputs": [
    {
     "name": "stdin",
     "output_type": "stream",
     "text": [
      " 5 2\n",
      " 8 7 6\n",
      " rsrpr\n"
     ]
    }
   ],
   "source": [
    "N, K = map(int, input().split())\n",
    "R, S, P = map(int, input().split())\n",
    "T = list(input())"
   ]
  },
  {
   "cell_type": "code",
   "execution_count": null,
   "metadata": {},
   "outputs": [],
   "source": [
    "def check(x):\n",
    "    if x\n",
    "for i in range(N):\n",
    "    "
   ]
  },
  {
   "cell_type": "code",
   "execution_count": null,
   "metadata": {},
   "outputs": [],
   "source": [
    "5 2\n",
    "8 7 6\n",
    "rsrpr"
   ]
  }
 ],
 "metadata": {
  "kernelspec": {
   "display_name": "Python 3",
   "language": "python",
   "name": "python3"
  },
  "language_info": {
   "codemirror_mode": {
    "name": "ipython",
    "version": 3
   },
   "file_extension": ".py",
   "mimetype": "text/x-python",
   "name": "python",
   "nbconvert_exporter": "python",
   "pygments_lexer": "ipython3",
   "version": "3.7.5"
  }
 },
 "nbformat": 4,
 "nbformat_minor": 4
}
