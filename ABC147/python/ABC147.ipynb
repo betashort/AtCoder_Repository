{
 "cells": [
  {
   "cell_type": "markdown",
   "metadata": {},
   "source": [
    "# ABC147\n",
    "\n",
    "解説:https://img.atcoder.jp/abc147/editorial.pdf"
   ]
  },
  {
   "cell_type": "markdown",
   "metadata": {},
   "source": [
    "## A: Blackjack\n"
   ]
  },
  {
   "cell_type": "code",
   "execution_count": null,
   "metadata": {},
   "outputs": [],
   "source": [
    "total = sum(list(map(int, input().split())))\n",
    "if  total<=21:\n",
    "    print(\"win\")\n",
    "else:\n",
    "    print(\"bust\")"
   ]
  },
  {
   "cell_type": "markdown",
   "metadata": {},
   "source": [
    "## B:Palindrome-philia\n",
    "### 問題文\n",
    "\n",
    "高八士君は回文が大好きで、回文でない文字列が許せません。高八士君は文字列を1回ハグするごとに、文字列から1文字を選んで任意の文字に変えることができます。\n",
    "文字列Sが与えられます。\n",
    "Sを回文にするために必要なハグの最小回数を答えてください。"
   ]
  },
  {
   "cell_type": "code",
   "execution_count": null,
   "metadata": {},
   "outputs": [],
   "source": [
    "s = list(input())\n",
    "s_r = s[::-1]\n",
    "\n",
    "count=0\n",
    "i=0\n",
    "while(\"\".join(s) != \"\".join(s_r)):\n",
    "    \n",
    "    if (s[i] != s_r[i]) and i<len(s):\n",
    "        s[i] = s_r[i]\n",
    "        s_r = s[::-1]\n",
    "        count+=1\n",
    "    i+=1\n",
    "print(count)"
   ]
  },
  {
   "cell_type": "markdown",
   "metadata": {},
   "source": [
    "# C問題文"
   ]
  },
  {
   "cell_type": "markdown",
   "metadata": {},
   "source": [
    "## bit 全探索"
   ]
  },
  {
   "cell_type": "code",
   "execution_count": null,
   "metadata": {},
   "outputs": [],
   "source": []
  }
 ],
 "metadata": {
  "kernelspec": {
   "display_name": "Python 3",
   "language": "python",
   "name": "python3"
  },
  "language_info": {
   "codemirror_mode": {
    "name": "ipython",
    "version": 3
   },
   "file_extension": ".py",
   "mimetype": "text/x-python",
   "name": "python",
   "nbconvert_exporter": "python",
   "pygments_lexer": "ipython3",
   "version": "3.7.5"
  }
 },
 "nbformat": 4,
 "nbformat_minor": 2
}
