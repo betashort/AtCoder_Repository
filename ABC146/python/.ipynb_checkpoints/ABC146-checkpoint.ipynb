{
 "cells": [
  {
   "cell_type": "markdown",
   "metadata": {},
   "source": [
    "# ABC146\n",
    "* https://atcoder.jp/contests/abc146\n",
    "* https://img.atcoder.jp/abc146/editorial.pdf\n",
    "* https://www.youtube.com/watch?v=7IlBVSglZqc"
   ]
  },
  {
   "cell_type": "markdown",
   "metadata": {},
   "source": [
    "## A:Can't Wait for Holiday / \n",
    "問題文\n",
    "今日の曜日を表す文字列Sが与えられます。  \n",
    "SはSUN,MON,TUE,WED,THU,FRI,SATのいずれかであり、それぞれ日曜日、月曜日、火曜日、水曜日、木曜日、金曜日、土曜日を表します。\n",
    "次の日曜日 (あす以降) が何日後か求めてください。\n",
    "\n"
   ]
  },
  {
   "cell_type": "code",
   "execution_count": null,
   "metadata": {},
   "outputs": [],
   "source": [
    "s = input()\n",
    "if s == \"SUN\":\n",
    "    print(0)\n",
    "elif s == \"MON\":\n",
    "    print(6)\n",
    "elif s == \"TUE\":\n",
    "    print(5)\n",
    "elif s == \"WED\":\n",
    "    print(4)\n",
    "elif s == \"THU\":\n",
    "    print(3)\n",
    "elif s == \"FRI\":\n",
    "    print(2)\n",
    "elif s == \"SAT\":\n",
    "    print(1)"
   ]
  },
  {
   "cell_type": "markdown",
   "metadata": {},
   "source": [
    "## B:ROT N\n",
    "問題文\n",
    "英大文字のみからなる文字列Sがあります。また、整数Nが与えられます。\n",
    "Sの各文字を、アルファベット順でN個後の文字に置き換えた文字列を出力してください。\n",
    "ただしアルファベット順で Z の1個後の文字はAとみなします。"
   ]
  },
  {
   "cell_type": "code",
   "execution_count": 15,
   "metadata": {},
   "outputs": [
    {
     "name": "stdout",
     "output_type": "stream",
     "text": [
      "2\n",
      "ABCXYZ\n",
      "CDEZAB\n"
     ]
    }
   ],
   "source": [
    "N = int(input())\n",
    "S = list(input())\n",
    "\n",
    "for i in range(len(S)):\n",
    "    x = ord(S[i]) - ord(\"A\")\n",
    "    x = (x+N) % 26\n",
    "    #print(chr(x+ord(\"A\")))\n",
    "    S[i] = chr(x+ord(\"A\"))\n",
    "    \n",
    "print(\"\".join(S))"
   ]
  },
  {
   "cell_type": "markdown",
   "metadata": {},
   "source": [
    "## C: Buy an Integer\n",
    "問題文  \n",
    "高橋くんは整数を1つ買いに整数屋さんに行きました。\n",
    "\n",
    "整数屋さんには1以上10^9以下の整数が売られていて、整数Nを買うためにはA×N+B×d(N)円が必要です。  \n",
    "ここで、d(N)はNの十進表記での桁数です。\n",
    "\n",
    "高橋くんの所持金がX円のとき、高橋くんの買うことのできる最も大きい整数を求めてください。  \n",
    "ただし、買うことのできる整数が1つもない場合は0を出力してください。"
   ]
  },
  {
   "cell_type": "code",
   "execution_count": 10,
   "metadata": {},
   "outputs": [],
   "source": [
    "'''\n",
    "def digit(d):\n",
    "    count = 1\n",
    "    while(True):\n",
    "        if d/10<1:\n",
    "            break\n",
    "        else:\n",
    "            d = d/10\n",
    "        count+=1\n",
    "    return count\n",
    "'''"
   ]
  },
  {
   "cell_type": "markdown",
   "metadata": {},
   "source": [
    "## 間違ってた"
   ]
  },
  {
   "cell_type": "code",
   "execution_count": 18,
   "metadata": {},
   "outputs": [
    {
     "name": "stdout",
     "output_type": "stream",
     "text": [
      "10 7 100\n",
      "9\n"
     ]
    }
   ],
   "source": [
    "A, B, X = map(int, input().split())\n",
    "yen = 0\n",
    "N = 1\n",
    "if X>10**9:\n",
    "    print(X)\n",
    "else:\n",
    "    while(True):\n",
    "        d = len(list(str(N)))\n",
    "        yen = A*N+B*d\n",
    "        if yen > X:\n",
    "            break\n",
    "        N+=1\n",
    "    print(N-1)"
   ]
  },
  {
   "cell_type": "code",
   "execution_count": null,
   "metadata": {},
   "outputs": [],
   "source": []
  }
 ],
 "metadata": {
  "kernelspec": {
   "display_name": "Python 3",
   "language": "python",
   "name": "python3"
  },
  "language_info": {
   "codemirror_mode": {
    "name": "ipython",
    "version": 3
   },
   "file_extension": ".py",
   "mimetype": "text/x-python",
   "name": "python",
   "nbconvert_exporter": "python",
   "pygments_lexer": "ipython3",
   "version": "3.7.5"
  }
 },
 "nbformat": 4,
 "nbformat_minor": 2
}
