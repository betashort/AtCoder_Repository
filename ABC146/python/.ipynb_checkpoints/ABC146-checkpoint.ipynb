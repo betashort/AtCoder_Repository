{
 "cells": [
  {
   "cell_type": "markdown",
   "metadata": {},
   "source": [
    "# ABC146\n",
    "* https://atcoder.jp/contests/abc146\n",
    "* https://img.atcoder.jp/abc146/editorial.pdf\n",
    "* https://www.youtube.com/watch?v=7IlBVSglZqc"
   ]
  },
  {
   "cell_type": "markdown",
   "metadata": {},
   "source": [
    "## A:Can't Wait for Holiday / "
   ]
  },
  {
   "cell_type": "code",
   "execution_count": null,
   "metadata": {},
   "outputs": [],
   "source": [
    "s = input()\n",
    "if s == \"SUN\":\n",
    "    print(0)\n",
    "elif s == \"MON\":\n",
    "    print(6)\n",
    "elif s == \"TUE\":\n",
    "    print(5)\n",
    "elif s == \"WED\":\n",
    "    print(4)\n",
    "elif s == \"THU\":\n",
    "    print(3)\n",
    "elif s == \"FRI\":\n",
    "    print(2)\n",
    "elif s == \"SAT\":\n",
    "    print(1)"
   ]
  },
  {
   "cell_type": "markdown",
   "metadata": {},
   "source": [
    "## B:ROT N"
   ]
  },
  {
   "cell_type": "code",
   "execution_count": 15,
   "metadata": {},
   "outputs": [
    {
     "name": "stdout",
     "output_type": "stream",
     "text": [
      "2\n",
      "ABCXYZ\n",
      "CDEZAB\n"
     ]
    }
   ],
   "source": [
    "N = int(input())\n",
    "S = list(input())\n",
    "\n",
    "for i in range(len(S)):\n",
    "    x = ord(S[i]) - ord(\"A\")\n",
    "    x = (x+N) % 26\n",
    "    #print(chr(x+ord(\"A\")))\n",
    "    S[i] = chr(x+ord(\"A\"))\n",
    "    \n",
    "print(\"\".join(S))"
   ]
  },
  {
   "cell_type": "code",
   "execution_count": null,
   "metadata": {},
   "outputs": [],
   "source": []
  }
 ],
 "metadata": {
  "kernelspec": {
   "display_name": "Python 3",
   "language": "python",
   "name": "python3"
  },
  "language_info": {
   "codemirror_mode": {
    "name": "ipython",
    "version": 3
   },
   "file_extension": ".py",
   "mimetype": "text/x-python",
   "name": "python",
   "nbconvert_exporter": "python",
   "pygments_lexer": "ipython3",
   "version": "3.7.5"
  }
 },
 "nbformat": 4,
 "nbformat_minor": 2
}
